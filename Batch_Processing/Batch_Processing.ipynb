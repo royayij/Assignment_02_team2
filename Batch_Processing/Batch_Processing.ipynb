{
 "cells": [
  {
   "cell_type": "code",
   "execution_count": 2,
   "id": "54aa75f9-325c-4994-9c76-6c6b0b855b8a",
   "metadata": {},
   "outputs": [
    {
     "name": "stdout",
     "output_type": "stream",
     "text": [
      "Collecting google-cloud-bigquery\n",
      "  Downloading google_cloud_bigquery-2.30.1-py2.py3-none-any.whl (203 kB)\n",
      "\u001b[K     |████████████████████████████████| 203 kB 12.6 MB/s eta 0:00:01\n",
      "\u001b[?25hCollecting google-api-core[grpc]<3.0.0dev,>=1.29.0\n",
      "  Downloading google_api_core-2.2.2-py2.py3-none-any.whl (95 kB)\n",
      "\u001b[K     |████████████████████████████████| 95 kB 6.9 MB/s  eta 0:00:01\n",
      "\u001b[?25hRequirement already satisfied: protobuf>=3.12.0 in /opt/conda/lib/python3.9/site-packages (from google-cloud-bigquery) (3.15.8)\n",
      "Requirement already satisfied: requests<3.0.0dev,>=2.18.0 in /opt/conda/lib/python3.9/site-packages (from google-cloud-bigquery) (2.25.1)\n",
      "Requirement already satisfied: packaging>=14.3 in /opt/conda/lib/python3.9/site-packages (from google-cloud-bigquery) (20.9)\n",
      "Collecting google-resumable-media<3.0dev,>=0.6.0\n",
      "  Downloading google_resumable_media-2.1.0-py2.py3-none-any.whl (75 kB)\n",
      "\u001b[K     |████████████████████████████████| 75 kB 7.3 MB/s  eta 0:00:01\n",
      "\u001b[?25hCollecting proto-plus>=1.10.0\n",
      "  Downloading proto_plus-1.19.8-py3-none-any.whl (45 kB)\n",
      "\u001b[K     |████████████████████████████████| 45 kB 5.3 MB/s  eta 0:00:01\n",
      "\u001b[?25hCollecting grpcio<2.0dev,>=1.38.1\n",
      "  Downloading grpcio-1.42.0-cp39-cp39-manylinux_2_17_x86_64.manylinux2014_x86_64.whl (4.0 MB)\n",
      "\u001b[K     |████████████████████████████████| 4.0 MB 74.1 MB/s eta 0:00:01\n",
      "\u001b[?25hCollecting google-cloud-core<3.0.0dev,>=1.4.1\n",
      "  Downloading google_cloud_core-2.2.1-py2.py3-none-any.whl (29 kB)\n",
      "Requirement already satisfied: python-dateutil<3.0dev,>=2.7.2 in /opt/conda/lib/python3.9/site-packages (from google-cloud-bigquery) (2.8.1)\n",
      "Requirement already satisfied: setuptools>=40.3.0 in /opt/conda/lib/python3.9/site-packages (from google-api-core[grpc]<3.0.0dev,>=1.29.0->google-cloud-bigquery) (49.6.0.post20210108)\n",
      "Collecting googleapis-common-protos<2.0dev,>=1.52.0\n",
      "  Downloading googleapis_common_protos-1.53.0-py2.py3-none-any.whl (198 kB)\n",
      "\u001b[K     |████████████████████████████████| 198 kB 79.3 MB/s eta 0:00:01\n",
      "\u001b[?25hCollecting google-auth<3.0dev,>=1.25.0\n",
      "  Downloading google_auth-2.3.3-py2.py3-none-any.whl (155 kB)\n",
      "\u001b[K     |████████████████████████████████| 155 kB 78.2 MB/s eta 0:00:01\n",
      "\u001b[?25hCollecting grpcio-status<2.0dev,>=1.33.2\n",
      "  Downloading grpcio_status-1.42.0-py3-none-any.whl (10.0 kB)\n",
      "Collecting rsa<5,>=3.1.4\n",
      "  Downloading rsa-4.8-py3-none-any.whl (39 kB)\n",
      "Collecting cachetools<5.0,>=2.0.0\n",
      "  Downloading cachetools-4.2.4-py3-none-any.whl (10 kB)\n",
      "Requirement already satisfied: six>=1.9.0 in /opt/conda/lib/python3.9/site-packages (from google-auth<3.0dev,>=1.25.0->google-api-core[grpc]<3.0.0dev,>=1.29.0->google-cloud-bigquery) (1.16.0)\n",
      "Collecting pyasn1-modules>=0.2.1\n",
      "  Downloading pyasn1_modules-0.2.8-py2.py3-none-any.whl (155 kB)\n",
      "\u001b[K     |████████████████████████████████| 155 kB 72.0 MB/s eta 0:00:01\n",
      "\u001b[?25hCollecting google-crc32c<2.0dev,>=1.0\n",
      "  Downloading google_crc32c-1.3.0-cp39-cp39-manylinux_2_12_x86_64.manylinux2010_x86_64.whl (36 kB)\n",
      "Requirement already satisfied: pyparsing>=2.0.2 in /opt/conda/lib/python3.9/site-packages (from packaging>=14.3->google-cloud-bigquery) (2.4.7)\n",
      "Collecting protobuf>=3.12.0\n",
      "  Downloading protobuf-3.19.1-cp39-cp39-manylinux_2_17_x86_64.manylinux2014_x86_64.whl (1.1 MB)\n",
      "\u001b[K     |████████████████████████████████| 1.1 MB 64.8 MB/s eta 0:00:01\n",
      "\u001b[?25hCollecting pyasn1<0.5.0,>=0.4.6\n",
      "  Downloading pyasn1-0.4.8-py2.py3-none-any.whl (77 kB)\n",
      "\u001b[K     |████████████████████████████████| 77 kB 10.2 MB/s eta 0:00:01\n",
      "\u001b[?25hRequirement already satisfied: certifi>=2017.4.17 in /opt/conda/lib/python3.9/site-packages (from requests<3.0.0dev,>=2.18.0->google-cloud-bigquery) (2021.5.30)\n",
      "Requirement already satisfied: urllib3<1.27,>=1.21.1 in /opt/conda/lib/python3.9/site-packages (from requests<3.0.0dev,>=2.18.0->google-cloud-bigquery) (1.26.5)\n",
      "Requirement already satisfied: chardet<5,>=3.0.2 in /opt/conda/lib/python3.9/site-packages (from requests<3.0.0dev,>=2.18.0->google-cloud-bigquery) (4.0.0)\n",
      "Requirement already satisfied: idna<3,>=2.5 in /opt/conda/lib/python3.9/site-packages (from requests<3.0.0dev,>=2.18.0->google-cloud-bigquery) (2.10)\n",
      "Installing collected packages: pyasn1, rsa, pyasn1-modules, protobuf, cachetools, grpcio, googleapis-common-protos, google-auth, grpcio-status, google-crc32c, google-api-core, proto-plus, google-resumable-media, google-cloud-core, google-cloud-bigquery\n",
      "  Attempting uninstall: protobuf\n",
      "    Found existing installation: protobuf 3.15.8\n",
      "    Uninstalling protobuf-3.15.8:\n",
      "      Successfully uninstalled protobuf-3.15.8\n",
      "Successfully installed cachetools-4.2.4 google-api-core-2.2.2 google-auth-2.3.3 google-cloud-bigquery-2.30.1 google-cloud-core-2.2.1 google-crc32c-1.3.0 google-resumable-media-2.1.0 googleapis-common-protos-1.53.0 grpcio-1.42.0 grpcio-status-1.42.0 proto-plus-1.19.8 protobuf-3.19.1 pyasn1-0.4.8 pyasn1-modules-0.2.8 rsa-4.8\n",
      "Note: you may need to restart the kernel to use updated packages.\n"
     ]
    }
   ],
   "source": [
    "pip install google-cloud-bigquery"
   ]
  },
  {
   "cell_type": "code",
   "execution_count": 16,
   "id": "b3abf9db-750f-4336-a9b1-2ebc7777d32f",
   "metadata": {},
   "outputs": [
    {
     "name": "stdout",
     "output_type": "stream",
     "text": [
      "Donations\n",
      "Donors\n",
      "Projects\n",
      "Resources\n",
      "Schools\n",
      "Teachers\n"
     ]
    }
   ],
   "source": [
    "from google.cloud import bigquery\n",
    "\n",
    "def upload_data_to_big_query(table_name):\n",
    "# upload to BigQuery\n",
    "    client = bigquery.Client(project=\"mythical-patrol-219308\")  \n",
    "\n",
    "    table_ref = client.dataset(\"second_dataset\").table(table_name)  \n",
    "\n",
    "    job_config = bigquery.LoadJobConfig()\n",
    "    job_config.source_format = bigquery.SourceFormat.CSV\n",
    "    job_config.allow_quoted_newlines = True\n",
    "    job_config.skip_leading_rows = 1 \n",
    "    job_config.autodetect = True\n",
    "\n",
    "    with open(\"/home/jovyan/data/Assignment-02/{}.csv\".format(table_name), \"rb\") as source_file:\n",
    "        job = client.load_table_from_file(\n",
    "            source_file, table_ref, job_config=job_config\n",
    "        )\n",
    "    print(table_name)\n",
    "    job.result()\n",
    "\n",
    "list_tables = ['Donations', 'Donors','Projects', 'Resources', 'Schools', 'Teachers']\n",
    "for table in list_tables:\n",
    "    upload_data_to_big_query(table)"
   ]
  },
  {
   "cell_type": "code",
   "execution_count": 17,
   "id": "5bf16277-6342-4785-b382-0c1a14ad7614",
   "metadata": {},
   "outputs": [
    {
     "name": "stdout",
     "output_type": "stream",
     "text": [
      "Donations\n",
      "root\n",
      " |-- Project_ID: string (nullable = true)\n",
      " |-- Donation_ID: string (nullable = true)\n",
      " |-- Donor_ID: string (nullable = true)\n",
      " |-- Donation_Included_Optional_Donation: boolean (nullable = true)\n",
      " |-- Donation_Amount: double (nullable = true)\n",
      " |-- Donor_Cart_Sequence: long (nullable = true)\n",
      " |-- Donation_Received_Date: timestamp (nullable = true)\n",
      "\n",
      "Donors\n",
      "root\n",
      " |-- Donor_ID: string (nullable = true)\n",
      " |-- Donor_City: string (nullable = true)\n",
      " |-- Donor_State: string (nullable = true)\n",
      " |-- Donor_Is_Teacher: boolean (nullable = true)\n",
      " |-- Donor_Zip: string (nullable = true)\n",
      "\n",
      "Projects\n",
      "root\n",
      " |-- Project_ID: string (nullable = true)\n",
      " |-- School_ID: string (nullable = true)\n",
      " |-- Teacher_ID: string (nullable = true)\n",
      " |-- Teacher_Project_Posted_Sequence: long (nullable = true)\n",
      " |-- Project_Type: string (nullable = true)\n",
      " |-- Project_Title: string (nullable = true)\n",
      " |-- Project_Essay: string (nullable = true)\n",
      " |-- Project_Short_Description: string (nullable = true)\n",
      " |-- Project_Need_Statement: string (nullable = true)\n",
      " |-- Project_Subject_Category_Tree: string (nullable = true)\n",
      " |-- Project_Subject_Subcategory_Tree: string (nullable = true)\n",
      " |-- Project_Grade_Level_Category: string (nullable = true)\n",
      " |-- Project_Resource_Category: string (nullable = true)\n",
      " |-- Project_Cost: double (nullable = true)\n",
      " |-- Project_Posted_Date: date (nullable = true)\n",
      " |-- Project_Expiration_Date: date (nullable = true)\n",
      " |-- Project_Current_Status: string (nullable = true)\n",
      " |-- Project_Fully_Funded_Date: date (nullable = true)\n",
      "\n",
      "Resources\n",
      "root\n",
      " |-- Project_ID: string (nullable = true)\n",
      " |-- Resource_Item_Name: string (nullable = true)\n",
      " |-- Resource_Quantity: double (nullable = true)\n",
      " |-- Resource_Unit_Price: double (nullable = true)\n",
      " |-- Resource_Vendor_Name: string (nullable = true)\n",
      "\n",
      "Schools\n",
      "root\n",
      " |-- School_ID: string (nullable = true)\n",
      " |-- School_Name: string (nullable = true)\n",
      " |-- School_Metro_Type: string (nullable = true)\n",
      " |-- School_Percentage_Free_Lunch: long (nullable = true)\n",
      " |-- School_State: string (nullable = true)\n",
      " |-- School_Zip: long (nullable = true)\n",
      " |-- School_City: string (nullable = true)\n",
      " |-- School_County: string (nullable = true)\n",
      " |-- School_District: string (nullable = true)\n",
      "\n",
      "Teachers\n",
      "root\n",
      " |-- Teacher_ID: string (nullable = true)\n",
      " |-- Teacher_Prefix: string (nullable = true)\n",
      " |-- Teacher_First_Project_Posted_Date: date (nullable = true)\n",
      "\n"
     ]
    }
   ],
   "source": [
    "from pyspark.sql import SparkSession\n",
    "from pyspark import SparkConf\n",
    "\n",
    "sparkConf = SparkConf()\n",
    "sparkConf.setMaster(\"spark://spark-master:7077\")\n",
    "sparkConf.setAppName(\"Ass_02\")\n",
    "sparkConf.set(\"spark.driver.memory\", \"4g\")\n",
    "sparkConf.set(\"spark.executor.cores\", \"1\")\n",
    "sparkConf.set(\"spark.driver.cores\", \"1\")\n",
    "\n",
    "spark = SparkSession.builder.config(conf=sparkConf).getOrCreate()\n",
    "\n",
    "def read_df(table_name):\n",
    "    df = spark.read \\\n",
    "      .format(\"bigquery\") \\\n",
    "      .load(\"mythical-patrol-219308.second_dataset.{}\".format(table_name))  \n",
    "    return df\n",
    "\n",
    "dic_dfs = {}\n",
    "for table in list_tables:\n",
    "    print(table)\n",
    "    dic_dfs[table] = read_df(table)\n",
    "    dic_dfs[table].printSchema()"
   ]
  },
  {
   "cell_type": "markdown",
   "id": "5f397218-68f4-4845-b4ed-bac7209e2569",
   "metadata": {},
   "source": [
    "### Finding Schools with the most and the least total amount donation for each city"
   ]
  },
  {
   "cell_type": "code",
   "execution_count": 18,
   "id": "ab4283dd-d4c6-48d1-a5b1-10d3517b1626",
   "metadata": {},
   "outputs": [],
   "source": [
    "from pyspark.sql.functions import col, sum\n",
    "joinExpression = [\"Project_ID\"] \n",
    "schools = dic_dfs['Schools']\n",
    "projects = dic_dfs['Projects']\n",
    "donation = dic_dfs['Donations']\n",
    "school_amount_donation = projects.join(donation, joinExpression,\"left\").groupby('School_ID').agg(sum(col('Donation_amount')).alias('total_donation_amount'))"
   ]
  },
  {
   "cell_type": "code",
   "execution_count": 19,
   "id": "719bb8bd-4e35-4012-bbf6-0b8e6cf7e080",
   "metadata": {},
   "outputs": [],
   "source": [
    "joinExpression = [\"School_ID\"] \n",
    "school_city = school_amount_donation.join(schools, joinExpression,\"left\")"
   ]
  },
  {
   "cell_type": "code",
   "execution_count": 20,
   "id": "82c6520e-9925-4deb-a0aa-116ccd0dbd7e",
   "metadata": {},
   "outputs": [
    {
     "name": "stdout",
     "output_type": "stream",
     "text": [
      "+------------+--------------------+---------------------+--------------------+\n",
      "| School_City|         School_Name|total_donation_amount|     school_category|\n",
      "+------------+--------------------+---------------------+--------------------+\n",
      "|      Agawam|Roberta G Doering...|                 20.0|Least_amount_Dona...|\n",
      "|      Agawam|Benjamin J Phelps...|              5660.08|Most_amount_Donation|\n",
      "|      Aitkin|Rippleside Elemen...|    6793.610000000001|Most_amount_Donation|\n",
      "|     Antwerp|Antwerp Local School|   1413.0499999999997|Most_amount_Donation|\n",
      "|Belle Plaine|Belle Plaine High...|                 50.0|Least_amount_Dona...|\n",
      "|Belle Plaine|Chatfield Element...|               803.52|Most_amount_Donation|\n",
      "|   Birchwood|    Birchwood School|               412.86|Most_amount_Donation|\n",
      "|    Bluffton|Okatie Elementary...|                 50.0|Least_amount_Dona...|\n",
      "|    Bluffton|Red Cedar Element...|              3206.85|Most_amount_Donation|\n",
      "|  Blythewood|Westwood High School|                88.78|Least_amount_Dona...|\n",
      "+------------+--------------------+---------------------+--------------------+\n",
      "only showing top 10 rows\n",
      "\n"
     ]
    }
   ],
   "source": [
    "from pyspark.sql.functions import *\n",
    "from pyspark.sql import Row, Window\n",
    "\n",
    "windowasc = Window.partitionBy(col(\"School_City\")).orderBy(col(\"total_donation_amount\").asc_nulls_last())\n",
    "windowdesc = Window.partitionBy(col(\"School_City\")).orderBy(col(\"total_donation_amount\").desc_nulls_last())\n",
    "\n",
    "school_windowed = school_city.withColumn(\"rank_amount_desc\", dense_rank().over(windowdesc)).withColumn(\"rank_amount_asc\", dense_rank().over(windowasc))\n",
    "most_least_donation_school_city = school_windowed.where((col(\"rank_amount_desc\") == 1) | (col(\"rank_amount_asc\") == 1) ).withColumn(\"school_category\", when(col(\"rank_amount_desc\") == 1, \"Most_amount_Donation\")\n",
    "                                                          .otherwise(\"Least_amount_Donation\")).select(\"School_City\", \"School_Name\",\"total_donation_amount\",\"school_category\")\n",
    "most_least_donation_school_city.show(10)"
   ]
  },
  {
   "cell_type": "code",
   "execution_count": 21,
   "id": "524f16cb-ce3c-4bd0-979d-755313a665d1",
   "metadata": {},
   "outputs": [],
   "source": [
    "# save BigQuery\n",
    "conf = spark.sparkContext._jsc.hadoopConfiguration()\n",
    "conf.set(\"fs.gs.impl\", \"com.google.cloud.hadoop.fs.gcs.GoogleHadoopFileSystem\")\n",
    "conf.set(\"fs.AbstractFileSystem.gs.impl\", \"com.google.cloud.hadoop.fs.gcs.GoogleHadoopFS\")\n",
    "\n",
    "bucket = \"temp_assignment_2\"\n",
    "spark.conf.set('temporaryGcsBucket', bucket)\n",
    "# Saving the data to BigQuery\n",
    "most_least_donation_school_city.write.format('bigquery').option('table', 'mythical-patrol-219308.second_dataset.result_school').save()"
   ]
  },
  {
   "cell_type": "code",
   "execution_count": 90,
   "id": "45fac3c2-48b5-4c2d-8cb8-36c9b19d40ae",
   "metadata": {},
   "outputs": [],
   "source": [
    "# saving to Bucket\n",
    "most_least_donation_school_city.write.format(\"csv\").options(header='True').save(\"gs://out_assignment_2/result_school.csv\")\n"
   ]
  },
  {
   "cell_type": "code",
   "execution_count": null,
   "id": "3fe4fb25-0c40-45ea-9e36-357876abed79",
   "metadata": {},
   "outputs": [],
   "source": [
    "spark.stop()"
   ]
  }
 ],
 "metadata": {
  "kernelspec": {
   "display_name": "Python 3",
   "language": "python",
   "name": "python3"
  },
  "language_info": {
   "codemirror_mode": {
    "name": "ipython",
    "version": 3
   },
   "file_extension": ".py",
   "mimetype": "text/x-python",
   "name": "python",
   "nbconvert_exporter": "python",
   "pygments_lexer": "ipython3",
   "version": "3.9.4"
  }
 },
 "nbformat": 4,
 "nbformat_minor": 5
}
